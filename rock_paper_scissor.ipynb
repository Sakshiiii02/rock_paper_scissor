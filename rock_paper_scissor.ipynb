{
 "cells": [
  {
   "cell_type": "code",
   "execution_count": 1,
   "id": "16df7a73-a303-4490-a3a6-4e734cea9b9c",
   "metadata": {},
   "outputs": [
    {
     "name": "stdin",
     "output_type": "stream",
     "text": [
      "Enter your move (rock, paper, scissors):  \n"
     ]
    },
    {
     "name": "stdout",
     "output_type": "stream",
     "text": [
      "Invalid move. Try again.\n"
     ]
    },
    {
     "name": "stdin",
     "output_type": "stream",
     "text": [
      "Enter your move (rock, paper, scissors):  rock\n"
     ]
    },
    {
     "name": "stdout",
     "output_type": "stream",
     "text": [
      "Computer played: paper\n"
     ]
    },
    {
     "name": "stdin",
     "output_type": "stream",
     "text": [
      "Enter your move (rock, paper, scissors):  paper\n"
     ]
    },
    {
     "name": "stdout",
     "output_type": "stream",
     "text": [
      "Computer played: scissors\n"
     ]
    },
    {
     "name": "stdin",
     "output_type": "stream",
     "text": [
      "Enter your move (rock, paper, scissors):  scissors\n"
     ]
    },
    {
     "name": "stdout",
     "output_type": "stream",
     "text": [
      "Computer played: paper\n"
     ]
    },
    {
     "name": "stdin",
     "output_type": "stream",
     "text": [
      "Enter your move (rock, paper, scissors):  rock\n"
     ]
    },
    {
     "name": "stdout",
     "output_type": "stream",
     "text": [
      "Computer played: rock\n"
     ]
    }
   ],
   "source": [
    "import random\n",
    "import numpy as np\n",
    "from sklearn.model_selection import train_test_split\n",
    "from sklearn.ensemble import RandomForestClassifier\n",
    "\n",
    "# Encode moves: Rock = 0, Paper = 1, Scissors = 2\n",
    "moves = {'rock': 0, 'paper': 1, 'scissors': 2}\n",
    "reverse_moves = {v: k for k, v in moves.items()}\n",
    "\n",
    "# Generate a sample dataset (interactive play can replace this)\n",
    "data = []\n",
    "for _ in range(100):\n",
    "    human_move = random.choice([0, 1, 2])\n",
    "    computer_move = random.choice([0, 1, 2])\n",
    "    outcome = (human_move - computer_move) % 3\n",
    "    result = 1 if outcome == 1 else -1 if outcome == 2 else 0\n",
    "    data.append([human_move, computer_move, result])\n",
    "\n",
    "# Convert to numpy array\n",
    "data = np.array(data)\n",
    "\n",
    "# Create features (use history for more features in a real implementation)\n",
    "X = data[:, :-1]\n",
    "y = data[:, -1]\n",
    "\n",
    "# Split data\n",
    "X_train, X_test, y_train, y_test = train_test_split(X, y, test_size=0.2, random_state=42)\n",
    "\n",
    "# Train model\n",
    "model = RandomForestClassifier()\n",
    "model.fit(X_train, y_train)\n",
    "\n",
    "# Simulate a game\n",
    "for _ in range(5):\n",
    "    human_input = input(\"Enter your move (rock, paper, scissors): \").lower()\n",
    "    if human_input not in moves:\n",
    "        print(\"Invalid move. Try again.\")\n",
    "        continue\n",
    "    human_move = moves[human_input]\n",
    "    \n",
    "    # Predict next move\n",
    "    prediction = model.predict([[human_move, random.choice([0, 1, 2])]])[0]\n",
    "    computer_move = (prediction + 1) % 3  # Counter human move\n",
    "    print(f\"Computer played: {reverse_moves[computer_move]}\")\n"
   ]
  }
 ],
 "metadata": {
  "kernelspec": {
   "display_name": "Python [conda env:base] *",
   "language": "python",
   "name": "conda-base-py"
  },
  "language_info": {
   "codemirror_mode": {
    "name": "ipython",
    "version": 3
   },
   "file_extension": ".py",
   "mimetype": "text/x-python",
   "name": "python",
   "nbconvert_exporter": "python",
   "pygments_lexer": "ipython3",
   "version": "3.12.7"
  }
 },
 "nbformat": 4,
 "nbformat_minor": 5
}
